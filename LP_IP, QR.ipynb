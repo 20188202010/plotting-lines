{
 "cells": [
  {
   "cell_type": "code",
   "execution_count": 1,
   "metadata": {
    "colab": {},
    "colab_type": "code",
    "id": "AvYmoWnF_eR8"
   },
   "outputs": [],
   "source": [
    "import numpy as np\n",
    "import cvxpy as cp\n",
    "import matplotlib.pyplot as plt"
   ]
  },
  {
   "cell_type": "markdown",
   "metadata": {},
   "source": [
    "## QR Decomposition (4x2 matrix)"
   ]
  },
  {
   "cell_type": "code",
   "execution_count": 3,
   "metadata": {},
   "outputs": [
    {
     "name": "stdout",
     "output_type": "stream",
     "text": [
      "[[ 2]\n",
      " [-1]\n",
      " [ 1]\n",
      " [-1]]\n",
      "r11: 2.6457513110645907\n",
      "q1: [[ 0.75592895]\n",
      " [-0.37796447]\n",
      " [ 0.37796447]\n",
      " [-0.37796447]]\n",
      "R12: [[-0.37796447]]\n",
      "A2 - q1R12: [[ 0.28571429]\n",
      " [ 0.85714286]\n",
      " [-0.85714286]\n",
      " [-1.14285714]] \n",
      "r11_2: 1.6903085094570331\n",
      "q1_2: [[ 0.16903085]\n",
      " [ 0.50709255]\n",
      " [-0.50709255]\n",
      " [-0.6761234 ]]\n"
     ]
    }
   ],
   "source": [
    "A = np.array([[2,0],\n",
    "              [-1,1],\n",
    "              [1,-1],\n",
    "              [-1,-1]\n",
    "            ])\n",
    "A2 = A[:,1].reshape(-1,1)\n",
    "A1 = A[:,0].reshape(-1,1)\n",
    "print(A1)\n",
    "r11 = np.linalg.norm(A1)\n",
    "print('r11: {}'.format(r11))\n",
    "q1 = A1/r11\n",
    "print('q1: {}'.format(q1))\n",
    "# q1 = Q[:,0].reshape(-1,1)\n",
    "R12 = np.matmul(q1.T,A2)\n",
    "\n",
    "step2 = A2 - np.matmul(q1,R12)\n",
    "r11_2 = np.linalg.norm(step2)\n",
    "q1_2 = step2/r11_2\n",
    "print('R12: {}\\nA2 - q1R12: {} '.format(R12,step2))\n",
    "print('r11_2: {}\\nq1_2: {}'.format(r11_2,q1_2))\n"
   ]
  },
  {
   "cell_type": "code",
   "execution_count": 4,
   "metadata": {},
   "outputs": [
    {
     "name": "stdout",
     "output_type": "stream",
     "text": [
      "[[ 0.75592895  0.16903085]\n",
      " [-0.37796447  0.50709255]\n",
      " [ 0.37796447 -0.50709255]\n",
      " [-0.37796447 -0.6761234 ]]\n",
      "[[ 1.0000000e+00 -3.9171719e-17]\n",
      " [-3.9171719e-17  1.0000000e+00]]\n"
     ]
    }
   ],
   "source": [
    "Q_matrix = np.hstack((q1,q1_2))\n",
    "print('{}\\n{}'.format(Q_matrix, np.matmul(Q_matrix.T,Q_matrix))) "
   ]
  },
  {
   "cell_type": "code",
   "execution_count": 5,
   "metadata": {
    "scrolled": true
   },
   "outputs": [
    {
     "name": "stdout",
     "output_type": "stream",
     "text": [
      "[[ 2.64575131 -0.37796447]\n",
      " [ 0.          1.69030851]]\n",
      "[[1.13389342]\n",
      " [0.84515425]]\n"
     ]
    }
   ],
   "source": [
    "R = np.array([[r11, R12[0][0]], [0,r11_2]])\n",
    "print(R)\n",
    "\n",
    "Z = np.matmul(np.linalg.inv(R.T) , np.array([[3],[1]]))\n",
    "print(Z)"
   ]
  },
  {
   "cell_type": "code",
   "execution_count": 6,
   "metadata": {},
   "outputs": [
    {
     "name": "stdout",
     "output_type": "stream",
     "text": [
      "[[ 1.00000000e+00]\n",
      " [ 1.66533454e-16]\n",
      " [-1.66533454e-16]\n",
      " [-1.00000000e+00]]\n"
     ]
    }
   ],
   "source": [
    "X = np.matmul(Q_matrix,Z)\n",
    "print(X)"
   ]
  },
  {
   "cell_type": "markdown",
   "metadata": {
    "colab_type": "text",
    "id": "cGfsPb88_eSI"
   },
   "source": [
    "# <p style=\"font-family:arvo\">1. Basic LP problem"
   ]
  },
  {
   "cell_type": "markdown",
   "metadata": {
    "colab_type": "text",
    "id": "QQw783J5_eSO"
   },
   "source": [
    "<p style=\"font-family:arvo\">\n",
    "$A$ is $mxn$ matrix and $b$ is $mx1$ matrix.\n",
    "\n",
    "\n",
    "Our objective function is to \n",
    "\n",
    "<center>\n",
    "Minimize: $(AX - b)^2$\n",
    "</center>\n",
    "\n",
    "subject to the constraints \n",
    "<center>\n",
    "    $0 \\leq X \\leq 1$\n",
    "</center>\n",
    "\n",
    "Solve for $X$"
   ]
  },
  {
   "cell_type": "code",
   "execution_count": 9,
   "metadata": {
    "colab": {},
    "colab_type": "code",
    "id": "WYXDQ9yp_eSQ"
   },
   "outputs": [],
   "source": [
    "# Problem data.\n",
    "m = 30\n",
    "n = 20\n",
    "np.random.seed(1)\n",
    "A = np.random.randn(m, n)\n",
    "b = np.random.randn(m)"
   ]
  },
  {
   "cell_type": "markdown",
   "metadata": {
    "colab_type": "text",
    "id": "p3cCJ7Fx_eSZ"
   },
   "source": [
    "### <p style=\"font-family:arvo\">We need to solve for $x$"
   ]
  },
  {
   "cell_type": "code",
   "execution_count": 10,
   "metadata": {
    "colab": {},
    "colab_type": "code",
    "id": "MvL1y_F3_eSb"
   },
   "outputs": [],
   "source": [
    "x = cp.Variable(n)"
   ]
  },
  {
   "cell_type": "markdown",
   "metadata": {
    "colab_type": "text",
    "id": "3_Fd8Nvy_eSh"
   },
   "source": [
    "### <p style=\"font-family:arvo\">Minimizing the objective"
   ]
  },
  {
   "cell_type": "code",
   "execution_count": 11,
   "metadata": {
    "colab": {},
    "colab_type": "code",
    "id": "rQe4dsU__eSi"
   },
   "outputs": [],
   "source": [
    "objective = cp.Minimize(cp.sum_squares(A*x - b))"
   ]
  },
  {
   "cell_type": "markdown",
   "metadata": {
    "colab_type": "text",
    "id": "N70SiPui_eSq"
   },
   "source": [
    "### <p style=\"font-family:arvo\">Defining constraints"
   ]
  },
  {
   "cell_type": "code",
   "execution_count": 12,
   "metadata": {
    "colab": {},
    "colab_type": "code",
    "id": "uNPngeLQ_eSs"
   },
   "outputs": [],
   "source": [
    "constraints = [x >= 0, x <= 1]\n",
    "prob = cp.Problem(objective, constraints)"
   ]
  },
  {
   "cell_type": "markdown",
   "metadata": {
    "colab_type": "text",
    "id": "z5ZMwqpx_eSw"
   },
   "source": [
    "### <p style=\"font-family:arvo\">The optimal objective is returned by prob.solve()"
   ]
  },
  {
   "cell_type": "code",
   "execution_count": 13,
   "metadata": {
    "colab": {},
    "colab_type": "code",
    "id": "ALzKQPZE_eSy",
    "outputId": "1e6f9bbf-ef97-4829-a386-cd1ea2a80745"
   },
   "outputs": [
    {
     "name": "stdout",
     "output_type": "stream",
     "text": [
      "Solution is: optimal\n",
      "Minimum Objective value is: 19.83126370644502\n"
     ]
    }
   ],
   "source": [
    "result = prob.solve()\n",
    "print(\"Solution is:\", prob.status)\n",
    "print(\"Minimum Objective value is:\", result)"
   ]
  },
  {
   "cell_type": "markdown",
   "metadata": {
    "colab_type": "text",
    "id": "gHZVNo3c_eS7"
   },
   "source": [
    "### <p style=\"font-family:arvo\">The optimal value for x is stored in x.value"
   ]
  },
  {
   "cell_type": "code",
   "execution_count": 14,
   "metadata": {
    "colab": {},
    "colab_type": "code",
    "id": "0kHKp2zc_eS_",
    "outputId": "dce8c935-2abb-43a2-cbeb-986d5b3194b6"
   },
   "outputs": [
    {
     "name": "stdout",
     "output_type": "stream",
     "text": [
      "[-1.79109255e-19  2.85112420e-02  2.79973443e-19  3.37658729e-20\n",
      " -2.72802663e-19  1.49285011e-01 -9.94082533e-20  8.35373900e-20\n",
      "  2.46718649e-01  5.78224144e-01 -4.03739463e-19  1.01242860e-03\n",
      " -9.28486180e-20  2.26767464e-01 -1.58813678e-19 -8.97232272e-20\n",
      " -1.22145729e-19 -1.51509428e-19  1.12060672e-19 -3.48318635e-19]\n"
     ]
    }
   ],
   "source": [
    "print(x.value)"
   ]
  },
  {
   "cell_type": "markdown",
   "metadata": {
    "colab_type": "text",
    "id": "r2nQdYzA_eTF"
   },
   "source": [
    "# <p style=\"font-family:arvo\">2. Knapsack Problem\n",
    "\n",
    "<p style=\"font-family:arvo\">\n",
    "<center>\n",
    "$\\max$ $\\sum_{i}$ $x_{i} * c_{i}$ \n",
    "</center>\n",
    "<br>\n",
    "<b>subject to constraints-</b>\n",
    "<br>\n",
    "<center>\n",
    "$\\sum_{i}$ $x_{i} * w_{i}$ $\\leq W$ where $W$ is maximum weight\n",
    "<br>\n",
    "$x_{i} \\in$ {0,1}\n",
    "</center>\n",
    "</p>"
   ]
  },
  {
   "cell_type": "markdown",
   "metadata": {
    "colab_type": "text",
    "id": "_yRK7rIm_eTH"
   },
   "source": [
    "### <p style=\"font-family:arvo\">$W$ = 165 units"
   ]
  },
  {
   "cell_type": "code",
   "execution_count": 15,
   "metadata": {
    "colab": {},
    "colab_type": "code",
    "id": "mtDNRfmL_eTK"
   },
   "outputs": [],
   "source": [
    "totalWeight = 165"
   ]
  },
  {
   "cell_type": "markdown",
   "metadata": {
    "colab_type": "text",
    "id": "bN9OwS4f_eTQ"
   },
   "source": [
    "### <p style=\"font-family:arvo\">Specifying Constraints"
   ]
  },
  {
   "cell_type": "markdown",
   "metadata": {
    "colab_type": "text",
    "id": "Qaztcnyh_eTS"
   },
   "source": [
    "### <p style=\"font-family:arvo\">weights : weights$_{i}$ denotes weight of $i^{th}$ item"
   ]
  },
  {
   "cell_type": "code",
   "execution_count": 16,
   "metadata": {
    "colab": {},
    "colab_type": "code",
    "id": "Z-w46OgH_eTT",
    "outputId": "f035e713-554d-4a62-d6da-90038c7e497c"
   },
   "outputs": [
    {
     "data": {
      "text/plain": [
       "10"
      ]
     },
     "execution_count": 16,
     "metadata": {},
     "output_type": "execute_result"
    }
   ],
   "source": [
    "weights = np.array([23, 31, 29, 44, 53, 38, 63, 85, 89, 82])\n",
    "len(weights)"
   ]
  },
  {
   "cell_type": "markdown",
   "metadata": {
    "colab_type": "text",
    "id": "24Gt4zG0_eTZ"
   },
   "source": [
    "### <p style=\"font-family:arvo\">cost: cost$_{i}$ denotes cost of $i^{th}$ item"
   ]
  },
  {
   "cell_type": "code",
   "execution_count": 17,
   "metadata": {
    "colab": {},
    "colab_type": "code",
    "id": "fWFNwruh_eTb",
    "outputId": "d2d936aa-5aff-4c71-bed0-e5aa3ec1a575"
   },
   "outputs": [
    {
     "data": {
      "text/plain": [
       "10"
      ]
     },
     "execution_count": 17,
     "metadata": {},
     "output_type": "execute_result"
    }
   ],
   "source": [
    "cost = np.array([92, 57, 49, 68, 60, 43, 67, 84, 87, 72])\n",
    "len(cost)"
   ]
  },
  {
   "cell_type": "markdown",
   "metadata": {
    "colab_type": "text",
    "id": "eU1nC23F_eTg"
   },
   "source": [
    "### <p style=\"font-family:arvo\"> take: take$_{i}$ denotes whether we are taking $i^{th}$ item or not, boolean variable"
   ]
  },
  {
   "cell_type": "code",
   "execution_count": 18,
   "metadata": {
    "colab": {},
    "colab_type": "code",
    "id": "fnUUN4h9_eTh",
    "outputId": "add70e8e-9525-4fd5-ad7b-e88f5e8fef4a"
   },
   "outputs": [
    {
     "data": {
      "text/plain": [
       "Variable((10,), boolean=True)"
      ]
     },
     "execution_count": 18,
     "metadata": {},
     "output_type": "execute_result"
    }
   ],
   "source": [
    "take = cp.Variable(len(weights),boolean=True)\n",
    "take"
   ]
  },
  {
   "cell_type": "markdown",
   "metadata": {
    "colab_type": "text",
    "id": "06WClwa4_eTm"
   },
   "source": [
    "### <p style=\"font-family:arvo\">Weight Constraint:  Total weight in bag <= totalWeight"
   ]
  },
  {
   "cell_type": "code",
   "execution_count": 19,
   "metadata": {
    "colab": {},
    "colab_type": "code",
    "id": "pXIWGhPa_eTo"
   },
   "outputs": [],
   "source": [
    "weight_constraint = [weights * take <= totalWeight]"
   ]
  },
  {
   "cell_type": "markdown",
   "metadata": {
    "colab_type": "text",
    "id": "okiH-z_Z_eTv"
   },
   "source": [
    "### <p style=\"font-family:arvo\">Total cost for all the items present in the bag, need to maximize total_cost"
   ]
  },
  {
   "cell_type": "code",
   "execution_count": 20,
   "metadata": {
    "colab": {},
    "colab_type": "code",
    "id": "75vMWala_eTw"
   },
   "outputs": [],
   "source": [
    "total_cost = cost * take"
   ]
  },
  {
   "cell_type": "markdown",
   "metadata": {
    "colab_type": "text",
    "id": "A-MiiH0Z_eT0"
   },
   "source": [
    "### <p style=\"font-family:arvo\">Defining problem in cvxpy"
   ]
  },
  {
   "cell_type": "code",
   "execution_count": 21,
   "metadata": {
    "colab": {},
    "colab_type": "code",
    "id": "TQYFBUPm_eT0"
   },
   "outputs": [],
   "source": [
    "knapsack_problem = cp.Problem(cp.Maximize(total_cost), weight_constraint)"
   ]
  },
  {
   "cell_type": "markdown",
   "metadata": {
    "colab_type": "text",
    "id": "ZLaLN8eE_eT4"
   },
   "source": [
    "### <p style=\"font-family:arvo\">Using cvxpy to solve the problem and also mentioning solver for Integer Programming Problems, return maximum value of the objective"
   ]
  },
  {
   "cell_type": "code",
   "execution_count": 22,
   "metadata": {
    "colab": {},
    "colab_type": "code",
    "id": "C4q22GEQ_eT6",
    "outputId": "7a41cb14-f657-42b3-fe2a-d10752327c6b"
   },
   "outputs": [
    {
     "data": {
      "text/plain": [
       "309.0"
      ]
     },
     "execution_count": 22,
     "metadata": {},
     "output_type": "execute_result"
    }
   ],
   "source": [
    "knapsack_problem.solve(solver=cp.GLPK_MI)"
   ]
  },
  {
   "cell_type": "markdown",
   "metadata": {
    "colab_type": "text",
    "id": "L_AoLi9s_eT_"
   },
   "source": [
    "### <p style=\"font-family:arvo\">take$_{i}$ = 1, represents that we need to take $i^{th}$ item, otherwise don't take the item"
   ]
  },
  {
   "cell_type": "code",
   "execution_count": 23,
   "metadata": {
    "colab": {},
    "colab_type": "code",
    "id": "N8TNvpGI_eUA",
    "outputId": "8410b05c-bf0b-4530-ef8f-6a0366c0584b"
   },
   "outputs": [
    {
     "name": "stdout",
     "output_type": "stream",
     "text": [
      "[1. 1. 1. 1. 0. 1. 0. 0. 0. 0.]\n"
     ]
    }
   ],
   "source": [
    "print(take.value)"
   ]
  },
  {
   "cell_type": "markdown",
   "metadata": {
    "colab_type": "text",
    "id": "CDxDOkax_eUm"
   },
   "source": [
    "# <p style=\"font-family:arvo\">4. Min vertex cover\n",
    "\n",
    "<p style=\"font-family:arvo\">The objective function is defined as - \n",
    "<center>\n",
    "$\\min \\sum_{u} x_{u} , \\forall u \\in V$\n",
    "</center>\n",
    "<p style=\"font-family:arvo\">subject to constraints - \n",
    "<center>\n",
    "    $x_{u} + x_{v} \\geq 1, \\forall u, v \\in E$\n",
    "    <br>\n",
    "    $x_{u} \\in $ {0,1}\n",
    "</center>"
   ]
  },
  {
   "cell_type": "markdown",
   "metadata": {
    "colab_type": "text",
    "id": "G5mrhEEW_eUn"
   },
   "source": [
    "![](graph.png)"
   ]
  },
  {
   "cell_type": "markdown",
   "metadata": {
    "colab_type": "text",
    "id": "cf_TrslH_eUo"
   },
   "source": [
    "### <p style=\"font-family:arvo\">The above graph has 6 vertices and 7 edges."
   ]
  },
  {
   "cell_type": "code",
   "execution_count": 36,
   "metadata": {
    "colab": {},
    "colab_type": "code",
    "id": "3WR2i-uu_eUp"
   },
   "outputs": [],
   "source": [
    "e = 7\n",
    "v = 6\n",
    "edges = [(1,2), (1,3), (2,3), (2,4), (3,5), (4,5), (4,6)]"
   ]
  },
  {
   "cell_type": "markdown",
   "metadata": {
    "colab_type": "text",
    "id": "Kkpqtxxi_eUu"
   },
   "source": [
    "### <p style=\"font-family:arvo\">The variable $x$ , objective function and constraints are defined"
   ]
  },
  {
   "cell_type": "code",
   "execution_count": 37,
   "metadata": {
    "colab": {},
    "colab_type": "code",
    "id": "6f-dI2IY_eUv"
   },
   "outputs": [],
   "source": [
    "x = cp.Variable(v, boolean=True)"
   ]
  },
  {
   "cell_type": "code",
   "execution_count": 38,
   "metadata": {
    "colab": {},
    "colab_type": "code",
    "id": "7iTFY449_eU2"
   },
   "outputs": [],
   "source": [
    "objective = cp.Minimize(cp.sum(x))"
   ]
  },
  {
   "cell_type": "code",
   "execution_count": 39,
   "metadata": {
    "colab": {},
    "colab_type": "code",
    "id": "2U2Wsa-5_eU5"
   },
   "outputs": [],
   "source": [
    "constraints = [x[i-1]+x[j-1]>=1 for (i,j) in edges]"
   ]
  },
  {
   "cell_type": "markdown",
   "metadata": {
    "colab_type": "text",
    "id": "77hFEdsp_eU7"
   },
   "source": [
    "### <p style=\"font-family:arvo\">Using cvxpy solving the problem"
   ]
  },
  {
   "cell_type": "code",
   "execution_count": 40,
   "metadata": {
    "colab": {},
    "colab_type": "code",
    "id": "gb1S6PNz_eU9"
   },
   "outputs": [],
   "source": [
    "prob = cp.Problem(objective, constraints)"
   ]
  },
  {
   "cell_type": "code",
   "execution_count": 41,
   "metadata": {
    "colab": {},
    "colab_type": "code",
    "id": "bw4yva_e_eVA"
   },
   "outputs": [],
   "source": [
    "result = prob.solve(solver=cp.GLPK_MI)"
   ]
  },
  {
   "cell_type": "code",
   "execution_count": 42,
   "metadata": {
    "colab": {},
    "colab_type": "code",
    "id": "s1OhO1fZ_eVD",
    "outputId": "85b89e50-0f5d-4dd5-f834-9338d00b7bb3"
   },
   "outputs": [
    {
     "name": "stdout",
     "output_type": "stream",
     "text": [
      "The minimum value of the objective function is : 3.0\n",
      "The minimum vertex cover is : 3\n"
     ]
    }
   ],
   "source": [
    "print(\"The minimum value of the objective function is :\", result)\n",
    "print(\"The minimum vertex cover is :\", np.sum(x.value == 1.0))"
   ]
  },
  {
   "cell_type": "markdown",
   "metadata": {
    "colab_type": "text",
    "id": "LcEoS83-_eVF"
   },
   "source": [
    "### <p style=\"font-family:arvo\">The values in $x$ which correspond to 1 are included in minimum vertex cover"
   ]
  },
  {
   "cell_type": "code",
   "execution_count": 43,
   "metadata": {
    "colab": {},
    "colab_type": "code",
    "id": "-Q_YsmXP_eVF",
    "outputId": "04fe6f10-cdaa-43a8-c07f-f1b172f34ec4"
   },
   "outputs": [
    {
     "data": {
      "text/plain": [
       "array([0., 1., 1., 1., 0., 0.])"
      ]
     },
     "execution_count": 43,
     "metadata": {},
     "output_type": "execute_result"
    }
   ],
   "source": [
    "x.value"
   ]
  },
  {
   "cell_type": "markdown",
   "metadata": {
    "colab_type": "text",
    "id": "n9_fQy4E_eVH"
   },
   "source": [
    "## Art-artist"
   ]
  },
  {
   "cell_type": "code",
   "execution_count": 44,
   "metadata": {
    "colab": {},
    "colab_type": "code",
    "id": "8cJAF0VG_eVM"
   },
   "outputs": [],
   "source": [
    "x1 =  cp.Variable(boolean=True)\n",
    "x2 =  cp.Variable(boolean=True)\n",
    "x3 =  cp.Variable(boolean=True)\n",
    "x4 =  cp.Variable(boolean=True)\n",
    "x5 =  cp.Variable(boolean=True)\n",
    "x6 =  cp.Variable(boolean=True)\n",
    "x7 =  cp.Variable(boolean=True)\n",
    "x8 =  cp.Variable(boolean=True)\n",
    "x9 =  cp.Variable(boolean=True)\n",
    "x10 =  cp.Variable(boolean=True)\n",
    "x11 =  cp.Variable(boolean=True)\n",
    "x12 =  cp.Variable(boolean=True)\n",
    "x13 =  cp.Variable(boolean=True)\n",
    "x14 =  cp.Variable(boolean=True)\n",
    "x15 =  cp.Variable(boolean=True)\n",
    "x16 =  cp.Variable(boolean=True)\n",
    "x17 =  cp.Variable(boolean=True)\n",
    "x18 =  cp.Variable(boolean=True)\n",
    "x19 =  cp.Variable(boolean=True)\n",
    "x20 =  cp.Variable(boolean=True)\n",
    "x21 =  cp.Variable(boolean=True)\n",
    "x22 =  cp.Variable(boolean=True)\n",
    "x23 =  cp.Variable(boolean=True)\n",
    "x24 =  cp.Variable(boolean=True)\n",
    "x25 =  cp.Variable(boolean=True)\n",
    "x26 =  cp.Variable(boolean=True)\n",
    "x27 =  cp.Variable(boolean=True)\n",
    "x28 =  cp.Variable(boolean=True)\n",
    "x29 =  cp.Variable(boolean=True)\n",
    "x30 =  cp.Variable(boolean=True)\n",
    "x31 =  cp.Variable(boolean=True)\n",
    "x32 =  cp.Variable(boolean=True)\n",
    "x33 =  cp.Variable(boolean=True)\n",
    "x34 =  cp.Variable(boolean=True)"
   ]
  },
  {
   "cell_type": "code",
   "execution_count": 45,
   "metadata": {
    "colab": {},
    "colab_type": "code",
    "id": "2LTBqbJO_eVR"
   },
   "outputs": [],
   "source": [
    "a = x1+x2+x3+x4+x5+x6+x7+x8+x9+x10+x11+x12+x13+x14+x15+x16+x17+\\\n",
    "    x18+x19+x20+x21+x22+x23+x24+x25+x26+x27+x28+x29+x30+x31+x32+x33+x34"
   ]
  },
  {
   "cell_type": "code",
   "execution_count": 46,
   "metadata": {
    "colab": {},
    "colab_type": "code",
    "id": "3bD7KcsJ_eVW"
   },
   "outputs": [],
   "source": [
    "b = 300*x1+250*x2+125*x3+400*x4+500*x5+400*x6+550*x7+700*x8+575*x9+200*x10+\\\n",
    "               225*x11+150*x12+150*x13+850*x14+750*x15+400*x16+175*x17+\\\n",
    "                450*x18+500*x19+500*x20+500*x21+650*x22+650*x23+250*x24+\\\n",
    "               350*x25+450*x26+400*x27+400*x28+300*x29+300*x30+50*x31+50*x32+50*x33+50*x34"
   ]
  },
  {
   "cell_type": "code",
   "execution_count": 47,
   "metadata": {
    "colab": {},
    "colab_type": "code",
    "id": "z1ZtrwDP_eVZ"
   },
   "outputs": [],
   "source": [
    "constraints1 = [x9 + x16 + x29 + x30 == 1,\\\n",
    "               x4 + x5 - 2*(x1+x2+x3)<=0, \\\n",
    "               x1+x2+x3-3*(x4+x5)<=0, \\\n",
    "               x14+x15+x19>=1, \\\n",
    "               x20+x27+x29>=1, x21==1, x11+x31+x32+x34>=1, x22+x23+x26>=1,\\\n",
    "               x10+x11+x12+x13+x14+x15+x19+x20+x21+x22+x23+x26+x27+x28+x31+x32+x33+x34 - 2*\\\n",
    "               (x1+x2+x3+x4+x5+x6+x7+x8+x9+x14+x17+x18+x4+x25+x29+x30),\\\n",
    "               x31+x32+x33+x34 == 4, \\\n",
    "               x10+x11 == 2,\\\n",
    "               x14 + x15 - x19 - x20 - x21 == 0,\\\n",
    "               x14 + x15 >= 1,\\\n",
    "               x19 + x20 + x21 >= 1,\\\n",
    "               x29 + x30 <= 1,\\\n",
    "               2*(x4+x5+x10+x11+x16+x17+x18+x27+x28) - \\\n",
    "               (x1+x2+x3+x6+x7+x8+x9+x12+x13+x14+x15+x19+x20+x21+x22+x23+x24+x25+x26+x29+x30+x31+x32+x33+x34),\\\n",
    "               x24+x25+x26>=1,\\\n",
    "               x4+x5+x22+x23>=1,\\\n",
    "               x30-x17==0,\\\n",
    "               x1+x2+x3+x8+x18<=4,\\\n",
    "               x4+x5+x6+x7+x9+x10+x11+x12+x13+x14+x15+x16+x17+x19+x20+x21+x22+x23+x24+\\\n",
    "               x25+x26+x27+x28+x29+x30+x31+x32+x33+x34<=20\\\n",
    "               ,300*x1+250*x2+125*x3+400*x4+500*x5+400*x6+550*x7+700*x8+575*x9+200*x10+\\\n",
    "               225*x11+150*x12+150*x13+850*x14+750*x15+400*x16+175*x17+\\\n",
    "                450*x18+500*x19+500*x20+500*x21+650*x22+650*x23+250*x24+\\\n",
    "               350*x25+450*x26+400*x27+400*x28+300*x29+300*x30+50*x31+50*x32+50*x33+50*x34 <=4000\n",
    "              ]"
   ]
  },
  {
   "cell_type": "code",
   "execution_count": 48,
   "metadata": {
    "colab": {},
    "colab_type": "code",
    "id": "-FzK7Sd5_eVc"
   },
   "outputs": [],
   "source": [
    "constraints2 = [x9 + x16 + x29 + x30 == 1,\\\n",
    "               x4 + x5 - 2*(x1+x2+x3)<=0, \\\n",
    "               x1+x2+x3-3*(x4+x5)<=0, \\\n",
    "               x14+x15+x19>=1, \\\n",
    "               x20+x27+x29>=1, x21==1, x11+x31+x32+x34>=1, x22+x23+x26>=1,\\\n",
    "               x10+x11+x12+x13+x14+x15+x19+x20+x21+x22+x23+x26+x27+x28+x31+x32+x33+x34 - 2*\\\n",
    "               (x1+x2+x3+x4+x5+x6+x7+x8+x9+x14+x17+x18+x4+x25+x29+x30),\\\n",
    "               x31+x32+x33+x34 == 4, \\\n",
    "               x10+x11 == 2,\\\n",
    "               x14 + x15 - x19 - x20 - x21 == 0,\\\n",
    "               x14 + x15 >= 1,\\\n",
    "               x19 + x20 + x21 >= 1,\\\n",
    "               x29 + x30 <= 1,\\\n",
    "               2*(x4+x5+x10+x11+x16+x17+x18+x27+x28) - \\\n",
    "               (x1+x2+x3+x6+x7+x8+x9+x12+x13+x14+x15+x19+x20+x21+x22+x23+x24+x25+x26+x29+x30+x31+x32+x33+x34),\\\n",
    "               x24+x25+x26>=1,\\\n",
    "               x4+x5+x22+x23>=1,\\\n",
    "               x30-x17==0,\\\n",
    "               x1+x2+x3+x8+x18<=4,\\\n",
    "               x4+x5+x6+x7+x9+x10+x11+x12+x13+x14+x15+x16+x17+x19+x20+x21+x22+x23+x24+\\\n",
    "               x25+x26+x27+x28+x29+x30+x31+x32+x33+x34<=20\\\n",
    "               ,x1+x2+x3+x4+x5+x6+x7+x8+x9+x10+x11+x12+x13+x14+x15+x16+x17+\\\n",
    "                x18+x19+x20+x21+x22+x23+x24+x25+x26+x27+x28+x29+x30+x31+x32+x33+x34>= 20\n",
    "              ]"
   ]
  },
  {
   "cell_type": "code",
   "execution_count": 49,
   "metadata": {
    "colab": {},
    "colab_type": "code",
    "id": "omAwGW0U_eVf"
   },
   "outputs": [],
   "source": [
    "constraints3 = [x9 + x16 + x29 + x30 == 1,\\\n",
    "               x4 + x5 - 2*(x1+x2+x3)<=0, \\\n",
    "               x1+x2+x3-3*(x4+x5)<=0, \\\n",
    "               x14+x15+x19>=1, \\\n",
    "               x20+x27+x29>=1, x21==1, x11+x31+x32+x34>=1, x22+x23+x26>=1,\\\n",
    "               x10+x11+x12+x13+x14+x15+x19+x20+x21+x22+x23+x26+x27+x28+x31+x32+x33+x34 - 2*\\\n",
    "               (x1+x2+x3+x4+x5+x6+x7+x8+x9+x14+x17+x18+x4+x25+x29+x30),\\\n",
    "               x31+x32+x33+x34 == 4, \\\n",
    "               x10+x11 == 2,\\\n",
    "               x14 + x15 - x19 - x20 - x21 == 0,\\\n",
    "               x14 + x15 >= 1,\\\n",
    "               x19 + x20 + x21 >= 1,\\\n",
    "               x29 + x30 <= 1,\\\n",
    "               2*(x4+x5+x10+x11+x16+x17+x18+x27+x28) - \\\n",
    "               (x1+x2+x3+x6+x7+x8+x9+x12+x13+x14+x15+x19+x20+x21+x22+x23+x24+x25+x26+x29+x30+x31+x32+x33+x34),\\\n",
    "               x24+x25+x26>=1,\\\n",
    "               x4+x5+x22+x23>=1,\\\n",
    "               x30-x17==0,\\\n",
    "               x1+x2+x3+x8+x18<=4,\\\n",
    "               x4+x5+x6+x7+x9+x10+x11+x12+x13+x14+x15+x16+x17+x19+x20+x21+x22+x23+x24+\\\n",
    "               x25+x26+x27+x28+x29+x30+x31+x32+x33+x34<=20\\\n",
    "               ,x1+x2+x3+x4+x5+x6+x7+x8+x9+x10+x11+x12+x13+x14+x15+x16+x17+\\\n",
    "                x18+x19+x20+x21+x22+x23+x24+x25+x26+x27+x28+x29+x30+x31+x32+x33+x34 == 20\\\n",
    "               ,x4+x5+x6+x7 == 4\n",
    "              ]"
   ]
  },
  {
   "cell_type": "code",
   "execution_count": 50,
   "metadata": {
    "colab": {},
    "colab_type": "code",
    "id": "yMz_Z2Ua_eVi",
    "outputId": "9e0146a0-cdb4-425a-b558-ffc212d21bd0"
   },
   "outputs": [
    {
     "name": "stdout",
     "output_type": "stream",
     "text": [
      "[Equality(Expression(AFFINE, NONNEGATIVE, ()), Constant(CONSTANT, NONNEGATIVE, ())), Inequality(Expression(AFFINE, UNKNOWN, ())), Inequality(Expression(AFFINE, UNKNOWN, ())), Inequality(Constant(CONSTANT, NONNEGATIVE, ())), Inequality(Constant(CONSTANT, NONNEGATIVE, ())), Equality(Variable((), boolean=True), Constant(CONSTANT, NONNEGATIVE, ())), Inequality(Constant(CONSTANT, NONNEGATIVE, ())), Inequality(Constant(CONSTANT, NONNEGATIVE, ())), Expression(AFFINE, UNKNOWN, ()), Equality(Expression(AFFINE, NONNEGATIVE, ()), Constant(CONSTANT, NONNEGATIVE, ())), Equality(Expression(AFFINE, NONNEGATIVE, ()), Constant(CONSTANT, NONNEGATIVE, ())), Equality(Expression(AFFINE, UNKNOWN, ()), Constant(CONSTANT, ZERO, ())), Inequality(Constant(CONSTANT, NONNEGATIVE, ())), Inequality(Constant(CONSTANT, NONNEGATIVE, ())), Inequality(Expression(AFFINE, NONNEGATIVE, ())), Expression(AFFINE, UNKNOWN, ()), Inequality(Constant(CONSTANT, NONNEGATIVE, ())), Inequality(Constant(CONSTANT, NONNEGATIVE, ())), Equality(Expression(AFFINE, UNKNOWN, ()), Constant(CONSTANT, ZERO, ())), Inequality(Expression(AFFINE, NONNEGATIVE, ())), Inequality(Expression(AFFINE, NONNEGATIVE, ())), Inequality(Expression(AFFINE, NONNEGATIVE, ()))]\n"
     ]
    }
   ],
   "source": [
    "print(constraints1)"
   ]
  },
  {
   "cell_type": "markdown",
   "metadata": {
    "colab_type": "text",
    "id": "1VgLZksJ_eVk"
   },
   "source": [
    "### 1"
   ]
  },
  {
   "cell_type": "code",
   "execution_count": 51,
   "metadata": {
    "colab": {},
    "colab_type": "code",
    "id": "-iIJIqcg_eVl",
    "outputId": "c99ba92b-bb63-453b-c39d-2ce5bd2d7199"
   },
   "outputs": [
    {
     "name": "stdout",
     "output_type": "stream",
     "text": [
      "Solution is: optimal\n",
      " Objective value is: 16.0\n",
      "x0 0.0\n",
      "x1 1.0\n",
      "x2 1.0\n",
      "x3 1.0\n",
      "x4 0.0\n",
      "x5 0.0\n",
      "x6 0.0\n",
      "x7 0.0\n",
      "x8 0.0\n",
      "x9 1.0\n",
      "x10 1.0\n",
      "x11 1.0\n",
      "x12 1.0\n",
      "x13 0.0\n",
      "x14 1.0\n",
      "x15 0.0\n",
      "x16 0.0\n",
      "x17 0.0\n",
      "x18 0.0\n",
      "x19 0.0\n",
      "x20 1.0\n",
      "x21 0.0\n",
      "x22 0.0\n",
      "x23 1.0\n",
      "x24 0.0\n",
      "x25 1.0\n",
      "x26 0.0\n",
      "x27 0.0\n",
      "x28 1.0\n",
      "x29 0.0\n",
      "x30 1.0\n",
      "x31 1.0\n",
      "x32 1.0\n",
      "x33 1.0\n"
     ]
    }
   ],
   "source": [
    "objective = cp.Maximize(a)\n",
    "prob = cp.Problem(objective, constraints1)\n",
    "result = prob.solve()\n",
    "print(\"Solution is:\", prob.status)\n",
    "print(\" Objective value is:\", result)\n",
    "l = [x1,x2,x3,x4,x5,x6,x7,x8,x9,x10,x11,x12,x13,x14,x15,x16,x17,x18,x19,\\\n",
    "    x20,x21,x22,x23,x24,x25,x26,x27,x28,x29,x30,x31,x32,x33,x34]\n",
    "for i in range (len(l)):\n",
    "    \n",
    "    print('x'+str(i), l[i].value)"
   ]
  },
  {
   "cell_type": "markdown",
   "metadata": {
    "colab_type": "text",
    "id": "GWg2LaEB_eVn"
   },
   "source": [
    "### 2"
   ]
  },
  {
   "cell_type": "code",
   "execution_count": 52,
   "metadata": {
    "colab": {},
    "colab_type": "code",
    "id": "oYe4OpC2_eVn",
    "outputId": "fcafcb1b-4788-4699-bd55-cf7b918b0cd7"
   },
   "outputs": [
    {
     "name": "stdout",
     "output_type": "stream",
     "text": [
      "Solution is: optimal\n",
      " Objective value is: 5175.0\n",
      "x0 1.0\n",
      "x1 1.0\n",
      "x2 1.0\n",
      "x3 1.0\n",
      "x4 0.0\n",
      "x5 0.0\n",
      "x6 0.0\n",
      "x7 0.0\n",
      "x8 0.0\n",
      "x9 1.0\n",
      "x10 1.0\n",
      "x11 1.0\n",
      "x12 1.0\n",
      "x13 0.0\n",
      "x14 1.0\n",
      "x15 0.0\n",
      "x16 1.0\n",
      "x17 0.0\n",
      "x18 0.0\n",
      "x19 0.0\n",
      "x20 1.0\n",
      "x21 0.0\n",
      "x22 0.0\n",
      "x23 1.0\n",
      "x24 1.0\n",
      "x25 1.0\n",
      "x26 1.0\n",
      "x27 0.0\n",
      "x28 0.0\n",
      "x29 1.0\n",
      "x30 1.0\n",
      "x31 1.0\n",
      "x32 1.0\n",
      "x33 1.0\n"
     ]
    }
   ],
   "source": [
    "objective = cp.Minimize(b)\n",
    "prob = cp.Problem(objective, constraints2)\n",
    "result = prob.solve()\n",
    "print(\"Solution is:\", prob.status)\n",
    "print(\" Objective value is:\", result)\n",
    "l = [x1,x2,x3,x4,x5,x6,x7,x8,x9,x10,x11,x12,x13,x14,x15,x16,x17,x18,x19,\\\n",
    "    x20,x21,x22,x23,x24,x25,x26,x27,x28,x29,x30,x31,x32,x33,x34]\n",
    "for i in range (len(l)):\n",
    "    \n",
    "    print('x'+str(i), l[i].value)"
   ]
  },
  {
   "cell_type": "markdown",
   "metadata": {
    "colab_type": "text",
    "id": "vR78lYdl_eVp"
   },
   "source": [
    "### 3"
   ]
  },
  {
   "cell_type": "code",
   "execution_count": 53,
   "metadata": {
    "colab": {},
    "colab_type": "code",
    "id": "RAE88yP-_eVq",
    "outputId": "3a53d803-8f6a-4d64-c920-6f19a99437ee"
   },
   "outputs": [
    {
     "name": "stdout",
     "output_type": "stream",
     "text": [
      "Solution is: optimal\n",
      " Objective value is: 5700.0\n",
      "x0 1.0\n",
      "x1 1.0\n",
      "x2 1.0\n",
      "x3 1.0\n",
      "x4 1.0\n",
      "x5 1.0\n",
      "x6 1.0\n",
      "x7 0.0\n",
      "x8 0.0\n",
      "x9 1.0\n",
      "x10 1.0\n",
      "x11 1.0\n",
      "x12 1.0\n",
      "x13 0.0\n",
      "x14 1.0\n",
      "x15 0.0\n",
      "x16 0.0\n",
      "x17 0.0\n",
      "x18 0.0\n",
      "x19 0.0\n",
      "x20 1.0\n",
      "x21 0.0\n",
      "x22 0.0\n",
      "x23 1.0\n",
      "x24 0.0\n",
      "x25 1.0\n",
      "x26 0.0\n",
      "x27 0.0\n",
      "x28 1.0\n",
      "x29 0.0\n",
      "x30 1.0\n",
      "x31 1.0\n",
      "x32 1.0\n",
      "x33 1.0\n"
     ]
    }
   ],
   "source": [
    "objective = cp.Minimize(b)\n",
    "prob = cp.Problem(objective, constraints3)\n",
    "result = prob.solve()\n",
    "print(\"Solution is:\", prob.status)\n",
    "print(\" Objective value is:\", result)\n",
    "l = [x1,x2,x3,x4,x5,x6,x7,x8,x9,x10,x11,x12,x13,x14,x15,x16,x17,x18,x19,\\\n",
    "    x20,x21,x22,x23,x24,x25,x26,x27,x28,x29,x30,x31,x32,x33,x34]\n",
    "for i in range (len(l)):\n",
    "    \n",
    "    print('x'+str(i), l[i].value)"
   ]
  },
  {
   "cell_type": "markdown",
   "metadata": {
    "colab_type": "text",
    "id": "_rwhmeQE_eVs"
   },
   "source": [
    "# pattern classification"
   ]
  },
  {
   "cell_type": "markdown",
   "metadata": {},
   "source": [
    " \n",
    "<p style=\"font-family:arvo font-size:14\" >3. Line Fitting Problem\n",
    "<br>\n",
    "Our objective function is - \n",
    "<center> \n",
    "    $\\max \\delta$\n",
    "   <br/> st $y_i^+ >= ax_i^+ + b_i \\forall i \\in N_1$\n",
    "   <br/>  $y_i^- <= ax_i^- + b_i \\forall i \\in N_2$\n",
    "    \n",
    "</center>\n",
    "This is an unconstrained optimization problem </p>"
   ]
  },
  {
   "cell_type": "code",
   "execution_count": 54,
   "metadata": {},
   "outputs": [],
   "source": [
    "roundness = [1,1.5,2,3,3,1.75,1.25,2.5]\n",
    "len(roundness)\n",
    "height = [2,3,1,2,1,3,2.75,1.75]"
   ]
  },
  {
   "cell_type": "code",
   "execution_count": 55,
   "metadata": {},
   "outputs": [
    {
     "data": {
      "text/html": [
       "<div>\n",
       "<style scoped>\n",
       "    .dataframe tbody tr th:only-of-type {\n",
       "        vertical-align: middle;\n",
       "    }\n",
       "\n",
       "    .dataframe tbody tr th {\n",
       "        vertical-align: top;\n",
       "    }\n",
       "\n",
       "    .dataframe thead th {\n",
       "        text-align: right;\n",
       "    }\n",
       "</style>\n",
       "<table border=\"1\" class=\"dataframe\">\n",
       "  <thead>\n",
       "    <tr style=\"text-align: right;\">\n",
       "      <th></th>\n",
       "      <th>roundness</th>\n",
       "      <th>height</th>\n",
       "    </tr>\n",
       "  </thead>\n",
       "  <tbody>\n",
       "    <tr>\n",
       "      <th>0</th>\n",
       "      <td>1.00</td>\n",
       "      <td>2.00</td>\n",
       "    </tr>\n",
       "    <tr>\n",
       "      <th>1</th>\n",
       "      <td>1.50</td>\n",
       "      <td>3.00</td>\n",
       "    </tr>\n",
       "    <tr>\n",
       "      <th>2</th>\n",
       "      <td>2.00</td>\n",
       "      <td>1.00</td>\n",
       "    </tr>\n",
       "    <tr>\n",
       "      <th>3</th>\n",
       "      <td>3.00</td>\n",
       "      <td>2.00</td>\n",
       "    </tr>\n",
       "    <tr>\n",
       "      <th>4</th>\n",
       "      <td>3.00</td>\n",
       "      <td>1.00</td>\n",
       "    </tr>\n",
       "    <tr>\n",
       "      <th>5</th>\n",
       "      <td>1.75</td>\n",
       "      <td>3.00</td>\n",
       "    </tr>\n",
       "    <tr>\n",
       "      <th>6</th>\n",
       "      <td>1.25</td>\n",
       "      <td>2.75</td>\n",
       "    </tr>\n",
       "    <tr>\n",
       "      <th>7</th>\n",
       "      <td>2.50</td>\n",
       "      <td>1.75</td>\n",
       "    </tr>\n",
       "  </tbody>\n",
       "</table>\n",
       "</div>"
      ],
      "text/plain": [
       "   roundness  height\n",
       "0       1.00    2.00\n",
       "1       1.50    3.00\n",
       "2       2.00    1.00\n",
       "3       3.00    2.00\n",
       "4       3.00    1.00\n",
       "5       1.75    3.00\n",
       "6       1.25    2.75\n",
       "7       2.50    1.75"
      ]
     },
     "execution_count": 55,
     "metadata": {},
     "output_type": "execute_result"
    }
   ],
   "source": [
    "import pandas as pd\n",
    "attributes = ['roundness','height']\n",
    "df = pd.DataFrame(list(zip(roundness, height)), columns =[attributes[0],attributes[1]]) \n",
    "df"
   ]
  },
  {
   "cell_type": "code",
   "execution_count": 56,
   "metadata": {},
   "outputs": [
    {
     "data": {
      "text/html": [
       "<div>\n",
       "<style scoped>\n",
       "    .dataframe tbody tr th:only-of-type {\n",
       "        vertical-align: middle;\n",
       "    }\n",
       "\n",
       "    .dataframe tbody tr th {\n",
       "        vertical-align: top;\n",
       "    }\n",
       "\n",
       "    .dataframe thead th {\n",
       "        text-align: right;\n",
       "    }\n",
       "</style>\n",
       "<table border=\"1\" class=\"dataframe\">\n",
       "  <thead>\n",
       "    <tr style=\"text-align: right;\">\n",
       "      <th></th>\n",
       "      <th>roundness</th>\n",
       "      <th>height</th>\n",
       "      <th>class</th>\n",
       "    </tr>\n",
       "  </thead>\n",
       "  <tbody>\n",
       "    <tr>\n",
       "      <th>0</th>\n",
       "      <td>1.00</td>\n",
       "      <td>2.00</td>\n",
       "      <td></td>\n",
       "    </tr>\n",
       "    <tr>\n",
       "      <th>1</th>\n",
       "      <td>1.50</td>\n",
       "      <td>3.00</td>\n",
       "      <td></td>\n",
       "    </tr>\n",
       "    <tr>\n",
       "      <th>2</th>\n",
       "      <td>2.00</td>\n",
       "      <td>1.00</td>\n",
       "      <td></td>\n",
       "    </tr>\n",
       "    <tr>\n",
       "      <th>3</th>\n",
       "      <td>3.00</td>\n",
       "      <td>2.00</td>\n",
       "      <td></td>\n",
       "    </tr>\n",
       "    <tr>\n",
       "      <th>4</th>\n",
       "      <td>3.00</td>\n",
       "      <td>1.00</td>\n",
       "      <td></td>\n",
       "    </tr>\n",
       "    <tr>\n",
       "      <th>5</th>\n",
       "      <td>1.75</td>\n",
       "      <td>3.00</td>\n",
       "      <td></td>\n",
       "    </tr>\n",
       "    <tr>\n",
       "      <th>6</th>\n",
       "      <td>1.25</td>\n",
       "      <td>2.75</td>\n",
       "      <td></td>\n",
       "    </tr>\n",
       "    <tr>\n",
       "      <th>7</th>\n",
       "      <td>2.50</td>\n",
       "      <td>1.75</td>\n",
       "      <td></td>\n",
       "    </tr>\n",
       "  </tbody>\n",
       "</table>\n",
       "</div>"
      ],
      "text/plain": [
       "   roundness  height class\n",
       "0       1.00    2.00      \n",
       "1       1.50    3.00      \n",
       "2       2.00    1.00      \n",
       "3       3.00    2.00      \n",
       "4       3.00    1.00      \n",
       "5       1.75    3.00      \n",
       "6       1.25    2.75      \n",
       "7       2.50    1.75      "
      ]
     },
     "execution_count": 56,
     "metadata": {},
     "output_type": "execute_result"
    }
   ],
   "source": [
    "df[\"class\"] = \"\"\n",
    "df"
   ]
  },
  {
   "cell_type": "code",
   "execution_count": 57,
   "metadata": {},
   "outputs": [],
   "source": [
    "c = []\n",
    "\n",
    "for index, row in df.iterrows():\n",
    "#     print(\"row[{}] {}\".format(\"roundness\", row[\"roundness\"]))\n",
    "    if row[attributes[0]] >= 2:\n",
    "        c.append(\"class 1\")\n",
    "#         print('here',row)\n",
    "    \n",
    "    else:\n",
    "        c.append(\"class 2\")\n",
    "#         print('there',row)"
   ]
  },
  {
   "cell_type": "code",
   "execution_count": 58,
   "metadata": {},
   "outputs": [],
   "source": [
    "df[\"class\"] = c"
   ]
  },
  {
   "cell_type": "code",
   "execution_count": 59,
   "metadata": {},
   "outputs": [
    {
     "data": {
      "text/html": [
       "<div>\n",
       "<style scoped>\n",
       "    .dataframe tbody tr th:only-of-type {\n",
       "        vertical-align: middle;\n",
       "    }\n",
       "\n",
       "    .dataframe tbody tr th {\n",
       "        vertical-align: top;\n",
       "    }\n",
       "\n",
       "    .dataframe thead th {\n",
       "        text-align: right;\n",
       "    }\n",
       "</style>\n",
       "<table border=\"1\" class=\"dataframe\">\n",
       "  <thead>\n",
       "    <tr style=\"text-align: right;\">\n",
       "      <th></th>\n",
       "      <th>roundness</th>\n",
       "      <th>height</th>\n",
       "      <th>class</th>\n",
       "    </tr>\n",
       "  </thead>\n",
       "  <tbody>\n",
       "    <tr>\n",
       "      <th>0</th>\n",
       "      <td>1.00</td>\n",
       "      <td>2.00</td>\n",
       "      <td>class 2</td>\n",
       "    </tr>\n",
       "    <tr>\n",
       "      <th>1</th>\n",
       "      <td>1.50</td>\n",
       "      <td>3.00</td>\n",
       "      <td>class 2</td>\n",
       "    </tr>\n",
       "    <tr>\n",
       "      <th>2</th>\n",
       "      <td>2.00</td>\n",
       "      <td>1.00</td>\n",
       "      <td>class 1</td>\n",
       "    </tr>\n",
       "    <tr>\n",
       "      <th>3</th>\n",
       "      <td>3.00</td>\n",
       "      <td>2.00</td>\n",
       "      <td>class 1</td>\n",
       "    </tr>\n",
       "    <tr>\n",
       "      <th>4</th>\n",
       "      <td>3.00</td>\n",
       "      <td>1.00</td>\n",
       "      <td>class 1</td>\n",
       "    </tr>\n",
       "    <tr>\n",
       "      <th>5</th>\n",
       "      <td>1.75</td>\n",
       "      <td>3.00</td>\n",
       "      <td>class 2</td>\n",
       "    </tr>\n",
       "    <tr>\n",
       "      <th>6</th>\n",
       "      <td>1.25</td>\n",
       "      <td>2.75</td>\n",
       "      <td>class 2</td>\n",
       "    </tr>\n",
       "    <tr>\n",
       "      <th>7</th>\n",
       "      <td>2.50</td>\n",
       "      <td>1.75</td>\n",
       "      <td>class 1</td>\n",
       "    </tr>\n",
       "  </tbody>\n",
       "</table>\n",
       "</div>"
      ],
      "text/plain": [
       "   roundness  height    class\n",
       "0       1.00    2.00  class 2\n",
       "1       1.50    3.00  class 2\n",
       "2       2.00    1.00  class 1\n",
       "3       3.00    2.00  class 1\n",
       "4       3.00    1.00  class 1\n",
       "5       1.75    3.00  class 2\n",
       "6       1.25    2.75  class 2\n",
       "7       2.50    1.75  class 1"
      ]
     },
     "execution_count": 59,
     "metadata": {},
     "output_type": "execute_result"
    }
   ],
   "source": [
    "df"
   ]
  },
  {
   "cell_type": "code",
   "execution_count": 60,
   "metadata": {
    "colab": {},
    "colab_type": "code",
    "id": "oXoAW9Zu_eVu"
   },
   "outputs": [],
   "source": [
    "class1 = df[df[\"class\"]==\"class 1\"][attributes]\n",
    "class2 = df[df[\"class\"]==\"class 2\"][attributes]"
   ]
  },
  {
   "cell_type": "code",
   "execution_count": 61,
   "metadata": {
    "colab": {},
    "colab_type": "code",
    "id": "sLLgP3uJ_eVy",
    "outputId": "56a3e996-7909-4487-9dcf-fdab3fb1d5ad"
   },
   "outputs": [
    {
     "data": {
      "image/png": "[encoded data removed]",
      "text/plain": [
       "<Figure size 432x360 with 1 Axes>"
      ]
     },
     "metadata": {
      "needs_background": "light"
     },
     "output_type": "display_data"
    }
   ],
   "source": [
    "ub,lb = 0,4\n",
    "x_p, y_p = class1[attributes[0]], class1[attributes[1]]\n",
    "x_n, y_n = class2[attributes[0]], class2[attributes[1]]\n",
    "# fig, ax = plt.subplots(figsize=(8,6))\n",
    "plt.figure(figsize=(6,5))\n",
    "plt.scatter(class1[attributes[0]],class1[attributes[1]], label='class1')\n",
    "plt.scatter(class2[attributes[0]],class2[attributes[1]], label='class2')\n",
    "plt.xlabel(attributes[0])\n",
    "plt.ylabel(attributes[1])\n",
    "plt.axis([ub, lb, ub, lb])\n",
    "plt.grid()\n",
    "plt.legend()\n",
    "plt.show()"
   ]
  },
  {
   "cell_type": "markdown",
   "metadata": {
    "colab_type": "text",
    "id": "fxeB4Eln_eV3"
   },
   "source": [
    "delta, yi, xi, b, a"
   ]
  },
  {
   "cell_type": "code",
   "execution_count": 62,
   "metadata": {
    "colab": {},
    "colab_type": "code",
    "id": "MJr6HN6G_eV3"
   },
   "outputs": [],
   "source": [
    "delta = cp.Variable()\n",
    "a = cp.Variable()\n",
    "b = cp.Variable()"
   ]
  },
  {
   "cell_type": "code",
   "execution_count": 63,
   "metadata": {},
   "outputs": [
    {
     "name": "stdout",
     "output_type": "stream",
     "text": [
      "[(2.0, 1.0), (3.0, 2.0), (3.0, 1.0), (2.5, 1.75)]\n"
     ]
    },
    {
     "data": {
      "text/plain": [
       "[(1.0, 2.0), (1.5, 3.0), (1.75, 3.0), (1.25, 2.75)]"
      ]
     },
     "execution_count": 63,
     "metadata": {},
     "output_type": "execute_result"
    }
   ],
   "source": [
    "class1_ = class1.to_records(index=False).tolist()\n",
    "\n",
    "class2_ = class2.to_records(index=False).tolist()\n",
    "print(class1_); class2_"
   ]
  },
  {
   "cell_type": "code",
   "execution_count": 64,
   "metadata": {
    "colab": {},
    "colab_type": "code",
    "id": "8Jpv2zrJ_eWB"
   },
   "outputs": [],
   "source": [
    "constraints = []\n",
    "c1 = [i >= a*j + b + delta for (i,j) in class1_]\n",
    "c2 = [i <= a*j + b - delta for (i,j) in class2_]\n",
    "constraints += c1\n",
    "constraints += c2"
   ]
  },
  {
   "cell_type": "code",
   "execution_count": 65,
   "metadata": {
    "colab": {},
    "colab_type": "code",
    "id": "nfSxRI4v_eWD"
   },
   "outputs": [],
   "source": [
    "objective = cp.Maximize(delta)\n",
    "prob = cp.Problem(objective, constraints)"
   ]
  },
  {
   "cell_type": "code",
   "execution_count": 66,
   "metadata": {
    "colab": {},
    "colab_type": "code",
    "id": "LvN4Isbz_eWE",
    "outputId": "a63f389c-ebc9-4ff2-f8ea-01e6a5f45eed"
   },
   "outputs": [
    {
     "name": "stdout",
     "output_type": "stream",
     "text": [
      "Optimal value is:  0.9999999999817593\n"
     ]
    }
   ],
   "source": [
    "result = prob.solve()\n",
    "print(\"Optimal value is: \",result)"
   ]
  },
  {
   "cell_type": "code",
   "execution_count": 67,
   "metadata": {
    "colab": {},
    "colab_type": "code",
    "id": "uy1yuX8q_eWG",
    "outputId": "ce10272f-e421-49b6-d56e-0490c401a88f",
    "scrolled": true
   },
   "outputs": [
    {
     "name": "stdout",
     "output_type": "stream",
     "text": [
      "0.9999999999817593 2.574402733633843 -3.1488054672664205\n"
     ]
    }
   ],
   "source": [
    "print(delta.value, a.value, b.value)"
   ]
  },
  {
   "cell_type": "code",
   "execution_count": 68,
   "metadata": {
    "colab": {},
    "colab_type": "code",
    "id": "RP56CRtI_eWI",
    "outputId": "0d56e153-f391-490a-f84a-950c1f5aa89f",
    "scrolled": true
   },
   "outputs": [
    {
     "data": {
      "image/png": "[encoded data removed]",
      "text/plain": [
       "<Figure size 432x360 with 1 Axes>"
      ]
     },
     "metadata": {
      "needs_background": "light"
     },
     "output_type": "display_data"
    }
   ],
   "source": [
    "x = np.arange(5)\n",
    "\n",
    "plt.figure(figsize=(6,5))\n",
    "plt.scatter(x_p,y_p, label='class1')\n",
    "plt.scatter(x_n,y_n, label='class2')\n",
    "plt.plot(x, a.value * x + b.value, 'r')\n",
    "plt.axis([ub, lb, ub, lb])\n",
    "\n",
    "plt.xlabel(attributes[0])\n",
    "plt.ylabel(attributes[1])\n",
    "plt.legend()\n",
    "plt.grid()\n",
    "plt.show()"
   ]
  },
  {
   "cell_type": "markdown",
   "metadata": {
    "colab_type": "text",
    "id": "we6Vewj5_eWL"
   },
   "source": [
    "# cutting stock"
   ]
  },
  {
   "cell_type": "markdown",
   "metadata": {
    "colab_type": "text",
    "id": "ubeOwZnb_eWL"
   },
   "source": [
    "(i) 97 rolls of width 135 cm <br/>\n",
    "(ii) 610 rolls of width 108 cm <br/>\n",
    "iii) 395 rolls of width 93 cm <br/>\n",
    "(iv) 211 rolls of width 42 cm\n"
   ]
  },
  {
   "cell_type": "markdown",
   "metadata": {
    "colab_type": "text",
    "id": "m5Z0Y7UL_eWN"
   },
   "source": [
    "• P1 : 2×135 <br/>\n",
    "• P2 : 135+108+42 <br/>\n",
    "• P3 : 135+93+42 <br/>\n",
    "• P4 : 135+3*42 <br/>\n",
    "• P5 : 2×108+2*42 <br/>\n",
    "• P6 : 108+2*93 <br/>\n",
    "• P7 : 108+93+2×42 <br/>\n",
    "• P8 : 108+4*42 <br/>\n",
    "• P9 : 3×93 <br/>\n",
    "• P10 : 2×93+2×42 <br/>\n",
    "• P11 : 93+4×42 <br/>\n",
    "• P12 : 7×42"
   ]
  },
  {
   "cell_type": "code",
   "execution_count": 69,
   "metadata": {
    "colab": {},
    "colab_type": "code",
    "id": "gQSaHdYH_eWP"
   },
   "outputs": [],
   "source": [
    "x1 = cp.Variable()\n",
    "x2 = cp.Variable()\n",
    "x3 = cp.Variable()\n",
    "x4 = cp.Variable()\n",
    "x5 = cp.Variable()\n",
    "x6 = cp.Variable()\n",
    "x7 = cp.Variable()\n",
    "x8 = cp.Variable()\n",
    "x9 = cp.Variable()\n",
    "x10 = cp.Variable()\n",
    "x11 = cp.Variable()\n",
    "x12 = cp.Variable()"
   ]
  },
  {
   "cell_type": "code",
   "execution_count": 70,
   "metadata": {
    "colab": {},
    "colab_type": "code",
    "id": "KxF4A-Xm_eWT"
   },
   "outputs": [],
   "source": [
    "constraints = [2*x1 + x2 + x3 + x4 >= 97,\\\n",
    "               x2 + 2*x5 + x6 + x7 + x8 >= 610,\\\n",
    "               x3 + 2*x6 + x7 + 3*x9 + 2*x10 + x11 >= 395,\\\n",
    "               x2 + x3 + 3*x4 + 2*x5 + 2*x7 + 4*x8 + 2*x10 + 4*x11 + 7*x12 >= 211]"
   ]
  },
  {
   "cell_type": "code",
   "execution_count": 71,
   "metadata": {
    "colab": {},
    "colab_type": "code",
    "id": "rfyZSngX_eWV"
   },
   "outputs": [],
   "source": [
    "objective = cp.Minimize(30*x1 + 15*x2 + 30*x3 + 39*x4 + 0*x5 + \\\n",
    "                        6*x6 + 15*x7 + 24*x8 + 21*x9 + 30*x10 + 39*x11 + 6*x12)\n",
    "prob = cp.Problem(objective, constraints)"
   ]
  },
  {
   "cell_type": "code",
   "execution_count": 72,
   "metadata": {
    "colab": {
     "base_uri": "https://localhost:8080/",
     "height": 54
    },
    "colab_type": "code",
    "id": "Eo-VFW0T_eWX",
    "outputId": "d4d52ad3-b4b8-4ba8-c845-0bcd281cbcb9"
   },
   "outputs": [
    {
     "name": "stdout",
     "output_type": "stream",
     "text": [
      "Solution is: unbounded\n",
      " Objective value is: -inf\n"
     ]
    }
   ],
   "source": [
    "result = prob.solve()\n",
    "print(\"Solution is:\", prob.status)\n",
    "print(\" Objective value is:\", result)"
   ]
  },
  {
   "cell_type": "markdown",
   "metadata": {
    "colab_type": "text",
    "id": "c3OO1YD-_eWY"
   },
   "source": [
    " cutting stock 2"
   ]
  },
  {
   "cell_type": "code",
   "execution_count": 73,
   "metadata": {
    "colab": {},
    "colab_type": "code",
    "id": "I6K42i2p_eWZ"
   },
   "outputs": [],
   "source": [
    "x1 = cp.Variable()\n",
    "x2 = cp.Variable()\n",
    "x3 = cp.Variable()\n",
    "x4 = cp.Variable()\n",
    "x5 = cp.Variable()\n",
    "x6 = cp.Variable()\n",
    "x7 = cp.Variable()\n",
    "x8 = cp.Variable()\n",
    "x9 = cp.Variable()\n",
    "x10 = cp.Variable()"
   ]
  },
  {
   "cell_type": "code",
   "execution_count": 74,
   "metadata": {
    "colab": {},
    "colab_type": "code",
    "id": "JtFa8NG7_eWb"
   },
   "outputs": [],
   "source": [
    "constraints = [2*x1 + x5 + x6 + x7 >= 511,\\\n",
    "               2*x2 + x5 + x8 + x9 >= 301,\\\n",
    "               2*x3 + x6 + x8 + x10 >= 263,\\\n",
    "               x3 + 3*x4 + x7 + 2*x9 + 2*x10 >= 383]"
   ]
  },
  {
   "cell_type": "code",
   "execution_count": 75,
   "metadata": {
    "colab": {},
    "colab_type": "code",
    "id": "p_w-qpJc_eWd"
   },
   "outputs": [],
   "source": [
    "objective = cp.Minimize(2*x1 + 4*x2 + 2*x4 + 3*x5 + \\\n",
    "                        4*x6 + 5*x7 + 5*x8 + 0*x9 + x10 )\n",
    "prob = cp.Problem(objective, constraints)"
   ]
  },
  {
   "cell_type": "code",
   "execution_count": 76,
   "metadata": {
    "colab": {
     "base_uri": "https://localhost:8080/",
     "height": 54
    },
    "colab_type": "code",
    "id": "csFWK5Nt_eWf",
    "outputId": "aed592c2-560a-48bb-b002-2795e093bff0"
   },
   "outputs": [
    {
     "name": "stdout",
     "output_type": "stream",
     "text": [
      "Solution is: infeasible\n",
      " Objective value is: inf\n"
     ]
    }
   ],
   "source": [
    "result = prob.solve()\n",
    "print(\"Solution is:\", prob.status)\n",
    "print(\" Objective value is:\", result)"
   ]
  },
  {
   "cell_type": "code",
   "execution_count": 77,
   "metadata": {},
   "outputs": [],
   "source": [
    "X = cp.Variable(4,boolean=True)"
   ]
  },
  {
   "cell_type": "code",
   "execution_count": 78,
   "metadata": {},
   "outputs": [],
   "source": [
    "constraints = [-5*X[3] - 5*X[2] - 3*X[0] - 6*X[1] >= -12,\\\n",
    "               X[3] + 2*X[2] - 4*X[0] - 9*X[1] >= -25,\\\n",
    "              ]"
   ]
  },
  {
   "cell_type": "code",
   "execution_count": 79,
   "metadata": {},
   "outputs": [],
   "source": [
    "objective = cp.Minimize(-10*X[3] - 12*X[2] - 15*X[0] - 25*X[1])"
   ]
  },
  {
   "cell_type": "code",
   "execution_count": 80,
   "metadata": {},
   "outputs": [],
   "source": [
    "problem = cp.Problem(objective, constraints)"
   ]
  },
  {
   "cell_type": "code",
   "execution_count": 81,
   "metadata": {},
   "outputs": [
    {
     "name": "stdout",
     "output_type": "stream",
     "text": [
      "Solution is optimal\n",
      "Objective Value is -40.0\n",
      "X: [1. 1. 0. 0.]\n"
     ]
    }
   ],
   "source": [
    "result = problem.solve()\n",
    "print(\"Solution is {}\\nObjective Value is {}\\nX: {}\".format(problem.status, result, X.value))"
   ]
  },
  {
   "cell_type": "code",
   "execution_count": 82,
   "metadata": {},
   "outputs": [
    {
     "name": "stdout",
     "output_type": "stream",
     "text": [
      "Solution is optimal\n",
      "Objective Value is 40.0\n",
      "X: [1. 1. 0. 0.]\n"
     ]
    }
   ],
   "source": [
    "X = cp.Variable(4,boolean=True)\n",
    "constraints = [5*X[3] + 5*X[2] + 3*X[0] + 6*X[1] <= 12,\\\n",
    "               X[3] - 2*X[2] + 4*X[0] + 9*X[1] <= 25,\\\n",
    "              ]\n",
    "objective = cp.Maximize(10*X[3] + 12*X[2] + 15*X[0] + 25*X[1])\n",
    "problem = cp.Problem(objective, constraints)\n",
    "result = problem.solve()\n",
    "print(\"Solution is {}\\nObjective Value is {}\\nX: {}\".format(problem.status, result, X.value))"
   ]
  },
  {
   "cell_type": "code",
   "execution_count": 83,
   "metadata": {},
   "outputs": [
    {
     "name": "stdout",
     "output_type": "stream",
     "text": [
      "Solution is optimal\n",
      "Objective Value is 8.869565203226701\n",
      "X: [-4.53882530e-10  1.43478261e+00  3.91304348e-01]\n"
     ]
    }
   ],
   "source": [
    "X = cp.Variable(3)\n",
    "constraints = [5*X[0] - 6*X[1] - X[2] <= -9,\\\n",
    "               -2*X[0] + X[1] + 4*X[2] == 3,\\\n",
    "               13*X[0] - 8*X[2] <=0, \\\n",
    "               X >= 0\n",
    "              ]\n",
    "objective = cp.Minimize(6*X[0] + 7*X[1] - 3*X[2])\n",
    "problem = cp.Problem(objective, constraints)\n",
    "result = problem.solve()\n",
    "print(\"Solution is {}\\nObjective Value is {}\\nX: {}\".format(problem.status, result, X.value))"
   ]
  },
  {
   "cell_type": "code",
   "execution_count": 84,
   "metadata": {},
   "outputs": [],
   "source": [
    "from fractions import Fraction\n",
    "def add(a,b):\n",
    "    c = a+b\n",
    "    print (Fraction(c),c)"
   ]
  },
  {
   "cell_type": "code",
   "execution_count": 85,
   "metadata": {},
   "outputs": [
    {
     "name": "stdout",
     "output_type": "stream",
     "text": [
      "-2973844319160409/281474976710656 -10.565217391304348\n"
     ]
    }
   ],
   "source": [
    "add(-6,-105/23)"
   ]
  }
 ],
 "metadata": {
  "colab": {
   "collapsed_sections": [
    "_yRK7rIm_eTH",
    "bN9OwS4f_eTQ",
    "Qaztcnyh_eTS",
    "24Gt4zG0_eTZ",
    "eU1nC23F_eTg",
    "06WClwa4_eTm",
    "okiH-z_Z_eTv",
    "A-MiiH0Z_eT0",
    "ZLaLN8eE_eT4",
    "L_AoLi9s_eT_",
    "gQdcRZTU_eUF",
    "BxtlYkGh_eUQ",
    "7VbhxStO_eUV",
    "cf_TrslH_eUo",
    "Kkpqtxxi_eUu",
    "77hFEdsp_eU7",
    "GWg2LaEB_eVn"
   ],
   "name": "LP-IP.ipynb",
   "provenance": [],
   "toc_visible": true
  },
  "kernelspec": {
   "display_name": "Python 3",
   "language": "python",
   "name": "python3"
  },
  "language_info": {
   "codemirror_mode": {
    "name": "ipython",
    "version": 3
   },
   "file_extension": ".py",
   "mimetype": "text/x-python",
   "name": "python",
   "nbconvert_exporter": "python",
   "pygments_lexer": "ipython3",
   "version": "3.8.2"
  }
 },
 "nbformat": 4,
 "nbformat_minor": 1
}
