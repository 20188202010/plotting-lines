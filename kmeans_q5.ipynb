{
 "cells": [
  {
   "cell_type": "code",
   "execution_count": 1,
   "metadata": {},
   "outputs": [],
   "source": [
    "import matplotlib.pyplot as plt\n",
    "import numpy as np"
   ]
  },
  {
   "cell_type": "code",
   "execution_count": 2,
   "metadata": {},
   "outputs": [],
   "source": [
    "X = np.array([[1,1], [0,0], [0.5,0.5],\n",
    "              [0,1], [1,0], [11,11], [10,10],[10.5,10.5],[10,11],[11,10]\n",
    "             ])"
   ]
  },
  {
   "cell_type": "code",
   "execution_count": 3,
   "metadata": {},
   "outputs": [
    {
     "data": {
      "image/png": "[encoded data removed]",
      "text/plain": [
       "<Figure size 432x288 with 1 Axes>"
      ]
     },
     "metadata": {
      "needs_background": "light"
     },
     "output_type": "display_data"
    }
   ],
   "source": [
    "colorize = dict(c=X[:, 0], cmap=plt.cm.get_cmap('rainbow', 4))\n",
    "\n",
    "# Plot the data\n",
    "fig = plt.figure()\n",
    "plt.scatter(X[:, 0], X[:, 1], **colorize)\n",
    "plt.axis('equal');"
   ]
  },
  {
   "cell_type": "markdown",
   "metadata": {},
   "source": [
    "### k means"
   ]
  },
  {
   "cell_type": "code",
   "execution_count": 4,
   "metadata": {},
   "outputs": [],
   "source": [
    "from sklearn.cluster import KMeans"
   ]
  },
  {
   "cell_type": "code",
   "execution_count": 5,
   "metadata": {},
   "outputs": [],
   "source": [
    "centers = np.array([[-1,1],[1,-1]])\n",
    "kmeans = KMeans(n_clusters=2,init=centers,algorithm='full')\n"
   ]
  },
  {
   "cell_type": "code",
   "execution_count": 6,
   "metadata": {},
   "outputs": [
    {
     "name": "stderr",
     "output_type": "stream",
     "text": [
      "<ipython-input-6-28568fcd941d>:1: RuntimeWarning: Explicit initial center position passed: performing only one init in k-means instead of n_init=10\n",
      "  kmeans.fit(X)\n"
     ]
    },
    {
     "data": {
      "text/plain": [
       "KMeans(algorithm='full', copy_x=True, init=array([[-1,  1],\n",
       "       [ 1, -1]]),\n",
       "       max_iter=300, n_clusters=2, n_init=10, n_jobs=None,\n",
       "       precompute_distances='auto', random_state=None, tol=0.0001, verbose=0)"
      ]
     },
     "execution_count": 6,
     "metadata": {},
     "output_type": "execute_result"
    }
   ],
   "source": [
    "kmeans.fit(X)"
   ]
  },
  {
   "cell_type": "code",
   "execution_count": 7,
   "metadata": {},
   "outputs": [
    {
     "name": "stdout",
     "output_type": "stream",
     "text": [
      "[0 0 0 0 1 0 0 0 0 1]\n"
     ]
    }
   ],
   "source": [
    "labels = kmeans.predict(X)\n",
    "print(labels)"
   ]
  },
  {
   "cell_type": "code",
   "execution_count": 8,
   "metadata": {},
   "outputs": [
    {
     "name": "stdout",
     "output_type": "stream",
     "text": [
      "[[5.375 5.625]\n",
      " [6.    5.   ]]\n"
     ]
    }
   ],
   "source": [
    "centroids = kmeans.cluster_centers_\n",
    "print(centroids)"
   ]
  },
  {
   "cell_type": "code",
   "execution_count": 9,
   "metadata": {},
   "outputs": [
    {
     "name": "stdout",
     "output_type": "stream",
     "text": [
      "(10,) (10,)\n"
     ]
    }
   ],
   "source": [
    "print(X[:,0].shape,X[:,1].shape)"
   ]
  },
  {
   "cell_type": "code",
   "execution_count": 10,
   "metadata": {},
   "outputs": [
    {
     "data": {
      "image/png": "[encoded data removed]",
      "text/plain": [
       "<Figure size 432x288 with 1 Axes>"
      ]
     },
     "metadata": {
      "needs_background": "light"
     },
     "output_type": "display_data"
    }
   ],
   "source": [
    "colmap = {1: 'r', 2: 'g', 3:'y'}\n",
    "colors = list(map(lambda x: colmap[x+1], labels))\n",
    "plt.scatter(X[:,0],X[:,1], color=colors, alpha=0.5, edgecolor='k')\n",
    "for idx, centroid in enumerate(centroids):\n",
    "    plt.scatter(*centroid, color=colmap[idx+1])\n",
    "# plt.xlim(0, 1)\n",
    "# plt.ylim(0, 1)\n",
    "plt.axis('equal')\n",
    "plt.show()"
   ]
  },
  {
   "cell_type": "markdown",
   "metadata": {},
   "source": [
    "### ratio cut"
   ]
  },
  {
   "cell_type": "code",
   "execution_count": 11,
   "metadata": {},
   "outputs": [],
   "source": [
    "#adjacency matrix\n",
    "W = np.array([[0,1,1,1,0,0,0,0,0,0],\n",
    "              [1,0,1,0,1,0,0,1,0,0],\n",
    "              [1,1,0,1,1,0,0,0,0,0],\n",
    "              [1,0,1,0,1,0,0,0,0,0],\n",
    "              [0,1,1,1,0,0,0,0,0,0],\n",
    "              [0,0,0,0,0,0,1,1,0,1],\n",
    "              [0,0,0,0,0,1,0,0,1,1],\n",
    "              [0,1,0,0,0,1,0,0,1,1],\n",
    "              [0,0,0,0,0,0,1,1,0,1],\n",
    "              [0,0,0,0,0,1,1,1,1,0],      \n",
    "             ])"
   ]
  },
  {
   "cell_type": "code",
   "execution_count": 13,
   "metadata": {},
   "outputs": [
    {
     "name": "stdout",
     "output_type": "stream",
     "text": [
      "degree matrix:\n",
      "[[3 0 0 0 0 0 0 0 0 0]\n",
      " [0 4 0 0 0 0 0 0 0 0]\n",
      " [0 0 4 0 0 0 0 0 0 0]\n",
      " [0 0 0 3 0 0 0 0 0 0]\n",
      " [0 0 0 0 3 0 0 0 0 0]\n",
      " [0 0 0 0 0 3 0 0 0 0]\n",
      " [0 0 0 0 0 0 3 0 0 0]\n",
      " [0 0 0 0 0 0 0 4 0 0]\n",
      " [0 0 0 0 0 0 0 0 3 0]\n",
      " [0 0 0 0 0 0 0 0 0 4]]\n",
      "laplacian matrix:\n",
      "[[ 3 -1 -1 -1  0  0  0  0  0  0]\n",
      " [-1  4 -1  0 -1  0  0 -1  0  0]\n",
      " [-1 -1  4 -1 -1  0  0  0  0  0]\n",
      " [-1  0 -1  3 -1  0  0  0  0  0]\n",
      " [ 0 -1 -1 -1  3  0  0  0  0  0]\n",
      " [ 0  0  0  0  0  3 -1 -1  0 -1]\n",
      " [ 0  0  0  0  0 -1  3  0 -1 -1]\n",
      " [ 0 -1  0  0  0 -1  0  4 -1 -1]\n",
      " [ 0  0  0  0  0  0 -1 -1  3 -1]\n",
      " [ 0  0  0  0  0 -1 -1 -1 -1  4]]\n"
     ]
    }
   ],
   "source": [
    "# degree matrix\n",
    "D = np.diag(np.sum(W, axis=1))\n",
    "print('degree matrix:')\n",
    "print(D)\n",
    "# laplacian matrix\n",
    "L = D - W\n",
    "print('laplacian matrix:')\n",
    "print(L)"
   ]
  },
  {
   "cell_type": "code",
   "execution_count": 21,
   "metadata": {},
   "outputs": [
    {
     "data": {
      "text/plain": [
       "array([1.06581410e-14, 2.67949192e-01, 3.00000000e+00, 3.00000000e+00,\n",
       "       3.00000000e+00, 3.73205081e+00, 5.00000000e+00, 5.00000000e+00,\n",
       "       5.00000000e+00, 6.00000000e+00])"
      ]
     },
     "execution_count": 21,
     "metadata": {},
     "output_type": "execute_result"
    }
   ],
   "source": [
    "import scipy as sp\n",
    "val,vec = sp.linalg.eigh(L)\n",
    "val"
   ]
  },
  {
   "cell_type": "code",
   "execution_count": 22,
   "metadata": {},
   "outputs": [
    {
     "data": {
      "text/plain": [
       "array([-0.32941482, -0.20884063, -0.32941482, -0.36172258, -0.32941482,\n",
       "        0.32941482,  0.36172258,  0.20884063,  0.32941482,  0.32941482])"
      ]
     },
     "execution_count": 22,
     "metadata": {},
     "output_type": "execute_result"
    }
   ],
   "source": [
    "v = vec[:,1] #second smallest eigen vector\n",
    "v"
   ]
  },
  {
   "cell_type": "code",
   "execution_count": 23,
   "metadata": {},
   "outputs": [],
   "source": [
    "labels = []\n",
    "for i in range(len(v)):\n",
    "#     print(i)\n",
    "    if v[i]<0:\n",
    "        labels.append(0)\n",
    "    else:\n",
    "        labels.append(1)\n",
    "        "
   ]
  },
  {
   "cell_type": "code",
   "execution_count": 24,
   "metadata": {},
   "outputs": [
    {
     "name": "stdout",
     "output_type": "stream",
     "text": [
      "[0, 0, 0, 0, 0, 1, 1, 1, 1, 1]\n"
     ]
    }
   ],
   "source": [
    "print(labels)"
   ]
  },
  {
   "cell_type": "code",
   "execution_count": 25,
   "metadata": {},
   "outputs": [
    {
     "data": {
      "image/png": "[encoded data removed]",
      "text/plain": [
       "<Figure size 432x288 with 1 Axes>"
      ]
     },
     "metadata": {
      "needs_background": "light"
     },
     "output_type": "display_data"
    }
   ],
   "source": [
    "colmap = {1: 'r', 2: 'g', 3:'y'}\n",
    "colors = list(map(lambda x: colmap[x+1], labels))\n",
    "plt.scatter(X[:,0],X[:,1], color=colors, alpha=0.5, edgecolor='k')\n",
    "for idx, centroid in enumerate(centroids):\n",
    "    plt.scatter(*centroid, color=colmap[idx+1])\n",
    "\n",
    "plt.axis('equal')\n",
    "plt.show()"
   ]
  }
 ],
 "metadata": {
  "kernelspec": {
   "display_name": "Python 3",
   "language": "python",
   "name": "python3"
  },
  "language_info": {
   "codemirror_mode": {
    "name": "ipython",
    "version": 3
   },
   "file_extension": ".py",
   "mimetype": "text/x-python",
   "name": "python",
   "nbconvert_exporter": "python",
   "pygments_lexer": "ipython3",
   "version": "3.8.2"
  }
 },
 "nbformat": 4,
 "nbformat_minor": 4
}
